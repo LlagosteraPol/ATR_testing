{
 "cells": [
  {
   "cell_type": "code",
   "execution_count": 3,
   "metadata": {},
   "outputs": [],
   "source": [
    "import networkx as nx\n",
    "import matplotlib.pyplot as plt\n",
    "import math"
   ]
  },
  {
   "cell_type": "code",
   "execution_count": 4,
   "metadata": {},
   "outputs": [],
   "source": [
    "g = nx.Graph([(1,2), (2,3), (3,4), (4,5), (5,6), (6,7), (7,8), (8,1), (1,5), (2,6), (3,7), (4,8)])"
   ]
  },
  {
   "cell_type": "code",
   "execution_count": 5,
   "metadata": {},
   "outputs": [
    {
     "data": {
      "image/png": "[encoded data removed]",
      "text/plain": [
       "<Figure size 432x288 with 1 Axes>"
      ]
     },
     "metadata": {},
     "output_type": "display_data"
    }
   ],
   "source": [
    "nx.draw(g, with_labels = True)\n",
    "plt.show()"
   ]
  },
  {
   "cell_type": "code",
   "execution_count": 6,
   "metadata": {},
   "outputs": [
    {
     "data": {
      "text/plain": [
       "3"
      ]
     },
     "execution_count": 6,
     "metadata": {},
     "output_type": "execute_result"
    }
   ],
   "source": [
    "max(nx.degree(g))[1]"
   ]
  },
  {
   "cell_type": "code",
   "execution_count": 7,
   "metadata": {},
   "outputs": [],
   "source": [
    "cycle_lst = list()\n",
    "directed_g = nx.DiGraph(g)\n",
    "for cycle in list(nx.simple_cycles(directed_g)):\n",
    "    if len(cycle) == len(directed_g.nodes):\n",
    "        cycle_lst.append(cycle)"
   ]
  },
  {
   "cell_type": "code",
   "execution_count": 8,
   "metadata": {},
   "outputs": [
    {
     "data": {
      "text/plain": [
       "[[1, 5, 6, 7, 8, 4, 3, 2],\n",
       " [1, 5, 4, 3, 2, 6, 7, 8],\n",
       " [1, 8, 4, 5, 6, 7, 3, 2],\n",
       " [1, 8, 7, 3, 4, 5, 6, 2],\n",
       " [1, 8, 7, 6, 2, 3, 4, 5],\n",
       " [1, 8, 7, 6, 5, 4, 3, 2],\n",
       " [1, 2, 6, 5, 4, 3, 7, 8],\n",
       " [1, 2, 3, 7, 6, 5, 4, 8],\n",
       " [1, 2, 3, 4, 8, 7, 6, 5],\n",
       " [1, 2, 3, 4, 5, 6, 7, 8]]"
      ]
     },
     "execution_count": 8,
     "metadata": {},
     "output_type": "execute_result"
    }
   ],
   "source": [
    "cycle_lst"
   ]
  },
  {
   "cell_type": "code",
   "execution_count": 9,
   "metadata": {},
   "outputs": [],
   "source": [
    "hm_cycles = list()\n",
    "\n",
    "for cycle in cycle_lst:\n",
    "    hm = True\n",
    "    tmp_g = nx.cycle_graph(cycle)\n",
    "    for node in tmp_g.nodes():\n",
    "        nei = g.neighbors(node)\n",
    "        for n in nei:\n",
    "            short_len = nx.shortest_path_length(tmp_g, node, n)\n",
    "            if short_len > 1 and short_len != math.ceil(g.order()/2) and short_len != math.floor(g.order()/2):\n",
    "                hm = False\n",
    "                continue\n",
    "        if not hm:\n",
    "            break\n",
    "    if hm: hm_cycles.append(cycle)\n",
    "    \n",
    "            "
   ]
  },
  {
   "cell_type": "code",
   "execution_count": 10,
   "metadata": {},
   "outputs": [
    {
     "data": {
      "text/plain": [
       "[[1, 8, 7, 6, 5, 4, 3, 2], [1, 2, 3, 4, 5, 6, 7, 8]]"
      ]
     },
     "execution_count": 10,
     "metadata": {},
     "output_type": "execute_result"
    }
   ],
   "source": [
    "hm_cycles"
   ]
  },
  {
   "cell_type": "code",
   "execution_count": 11,
   "metadata": {},
   "outputs": [
    {
     "data": {
      "text/plain": [
       "[[1, 5],\n",
       " [1, 5, 6, 2, 3, 7, 8],\n",
       " [1, 5, 6, 2, 3, 4, 8],\n",
       " [1, 5, 6, 2],\n",
       " [1, 5, 6, 7, 3, 4, 8],\n",
       " [1, 5, 6, 7, 3, 2],\n",
       " [1, 5, 6, 7, 8, 4, 3, 2],\n",
       " [1, 5, 6, 7, 8],\n",
       " [1, 5, 4, 8],\n",
       " [1, 5, 4, 8, 7, 3, 2],\n",
       " [1, 5, 4, 8, 7, 6, 2],\n",
       " [1, 5, 4, 3, 7, 8],\n",
       " [1, 5, 4, 3, 7, 6, 2],\n",
       " [1, 5, 4, 3, 2, 6, 7, 8],\n",
       " [1, 5, 4, 3, 2],\n",
       " [1, 8, 4, 5],\n",
       " [1, 8, 4, 5, 6, 2],\n",
       " [1, 8, 4, 5, 6, 7, 3, 2],\n",
       " [1, 8, 4, 3, 7, 6, 2],\n",
       " [1, 8, 4, 3, 7, 6, 5],\n",
       " [1, 8, 4, 3, 2, 6, 5],\n",
       " [1, 8, 4, 3, 2],\n",
       " [1, 8],\n",
       " [1, 8, 7, 3, 4, 5],\n",
       " [1, 8, 7, 3, 4, 5, 6, 2],\n",
       " [1, 8, 7, 3, 2, 6, 5],\n",
       " [1, 8, 7, 3, 2],\n",
       " [1, 8, 7, 6, 2, 3, 4, 5],\n",
       " [1, 8, 7, 6, 2],\n",
       " [1, 8, 7, 6, 5],\n",
       " [1, 8, 7, 6, 5, 4, 3, 2],\n",
       " [1, 2, 6, 7, 3, 4, 8],\n",
       " [1, 2, 6, 7, 3, 4, 5],\n",
       " [1, 2, 6, 7, 8, 4, 5],\n",
       " [1, 2, 6, 7, 8],\n",
       " [1, 2, 6, 5],\n",
       " [1, 2, 6, 5, 4, 8],\n",
       " [1, 2, 6, 5, 4, 3, 7, 8],\n",
       " [1, 2, 3, 7, 8, 4, 5],\n",
       " [1, 2, 3, 7, 8],\n",
       " [1, 2, 3, 7, 6, 5],\n",
       " [1, 2, 3, 7, 6, 5, 4, 8],\n",
       " [1, 2, 3, 4, 8],\n",
       " [1, 2, 3, 4, 8, 7, 6, 5],\n",
       " [1, 2, 3, 4, 5],\n",
       " [1, 2, 3, 4, 5, 6, 7, 8],\n",
       " [1, 2],\n",
       " [2, 6],\n",
       " [2, 6, 7, 3],\n",
       " [2, 6, 7, 8, 4, 3],\n",
       " [2, 6, 5, 4, 8, 7, 3],\n",
       " [2, 6, 5, 4, 3],\n",
       " [2, 3, 7, 8, 4, 5, 6],\n",
       " [2, 3, 7, 6],\n",
       " [2, 3, 4, 8, 7, 6],\n",
       " [2, 3, 4, 5, 6],\n",
       " [2, 3],\n",
       " [3, 7],\n",
       " [3, 7, 8, 4],\n",
       " [3, 7, 6, 5, 4],\n",
       " [3, 4, 8, 7],\n",
       " [3, 4, 5, 6, 7],\n",
       " [3, 4],\n",
       " [4, 8],\n",
       " [4, 8, 7, 6, 5],\n",
       " [4, 5, 6, 7, 8],\n",
       " [4, 5],\n",
       " [8, 7],\n",
       " [5, 6],\n",
       " [6, 7]]"
      ]
     },
     "execution_count": 11,
     "metadata": {},
     "output_type": "execute_result"
    }
   ],
   "source": [
    "list(nx.simple_cycles(directed_g))"
   ]
  },
  {
   "cell_type": "code",
   "execution_count": null,
   "metadata": {},
   "outputs": [],
   "source": []
  }
 ],
 "metadata": {
  "kernelspec": {
   "display_name": "Python 3 (ipykernel)",
   "language": "python",
   "name": "python3"
  },
  "language_info": {
   "codemirror_mode": {
    "name": "ipython",
    "version": 3
   },
   "file_extension": ".py",
   "mimetype": "text/x-python",
   "name": "python",
   "nbconvert_exporter": "python",
   "pygments_lexer": "ipython3",
   "version": "3.9.2"
  }
 },
 "nbformat": 4,
 "nbformat_minor": 4
}
